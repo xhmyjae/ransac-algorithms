{
 "cells": [
  {
   "cell_type": "markdown",
   "id": "58b9d697-9f51-4441-b491-8ab7428f4dc4",
   "metadata": {},
   "source": [
    "# 1°) Description Mathématique et Pratique : "
   ]
  },
  {
   "cell_type": "markdown",
   "id": "e0f27116-89ae-4604-b7ea-9f11cb769b62",
   "metadata": {},
   "source": [
    "## 1.1°) Comment fonctionne l'algorithme RANSAC ?"
   ]
  },
  {
   "cell_type": "markdown",
   "id": "79e62d73-91d8-40c9-ac0a-854c8d110147",
   "metadata": {},
   "source": [
    "Plusieurs utilisations possibles. En partant du plus simple..."
   ]
  },
  {
   "cell_type": "markdown",
   "id": "b5cfe459-d272-40b1-8933-89147c896552",
   "metadata": {},
   "source": [
    "#### 1.1.1°) Un Algorithme robuste aux Outliers"
   ]
  },
  {
   "cell_type": "markdown",
   "id": "3ab24f08-d57b-4f08-8a3c-b1f5a00897de",
   "metadata": {},
   "source": [
    "La procédure RANSAC est à l'opposé de celle des techniques de lissage conventionnelles : plutôt que d'utiliser autant de données que possible pour obtenir une solution initiale puis tenter d'éliminer les points de données invalides, RANSAC utilise un ensemble de données initial aussi petit que possible et agrandit cet ensemble avec des données cohérentes lorsque cela est possible. Par exemple, étant donné la tâche d'ajuster un arc de cercle à un ensemble de points bidimensionnels, l'approche RANSAC consisterait à sélectionner un ensemble de trois points (puisque trois points sont nécessaires pour déterminer un cercle), à calculer le centre et le rayon du cercle implicite, et à compter le nombre de points qui sont suffisamment proches de ce cercle pour suggérer leur compatibilité avec celui-ci (c'est-à-dire que leurs écarts sont suffisamment petits pour être considérés comme des erreurs de mesure). S'il y a suffisamment de points compatibles, RANSAC utiliserait une technique de lissage, telle que les moindres carrés, pour calculer une estimation améliorée des paramètres du cercle maintenant qu'un ensemble de points mutuellement cohérents a été identifié."
   ]
  },
  {
   "cell_type": "markdown",
   "id": "664c1afa-f912-49bd-bcc9-4675ef2c211f",
   "metadata": {},
   "source": [
    "Ransac est utilisé pour adapter un modèle au pourcentage expérimental d'erreurs brutes et est donc parfaitement adapté à une application dans l'analyse d'images automatisée où l'interprétation est basée sur les données fournies par des détecteurs de caractéristiques sujets aux erreurs (pouvant produire 2 types d'erreurs : Les erreurs de classification et les erreurs de mesures)."
   ]
  },
  {
   "cell_type": "markdown",
   "id": "7efd8720-69b5-4b46-a169-3a6af9adc76f",
   "metadata": {},
   "source": [
    "## 1.2°) Quels sont ses paramètres ?"
   ]
  },
  {
   "cell_type": "markdown",
   "id": "8ec9d02a-d21d-4093-9d2d-5f1ad2382cf3",
   "metadata": {},
   "source": []
  },
  {
   "cell_type": "markdown",
   "id": "0a4581be-5bbe-4fdb-8c92-8a1555da67df",
   "metadata": {},
   "source": [
    "# 2°) Avantages & Inconvénients"
   ]
  },
  {
   "cell_type": "markdown",
   "id": "fcb3d81e-ea3e-4655-9c37-4bc5525a8505",
   "metadata": {},
   "source": [
    "# 3°) Exemples"
   ]
  },
  {
   "cell_type": "markdown",
   "id": "5d9d9ba5-60e4-430f-9769-4aa6ab0e8984",
   "metadata": {},
   "source": [
    "# 4°) Démonstration"
   ]
  },
  {
   "cell_type": "markdown",
   "id": "bb86c602-a5a9-4333-81d4-55bd8b64e1ef",
   "metadata": {},
   "source": [
    "## 4.1°) Estimation robuste de modèle linéaire en utilisant RANSAC"
   ]
  },
  {
   "cell_type": "markdown",
   "id": "c6cfa0cf-505f-4bed-9cc5-f47dc6113483",
   "metadata": {},
   "source": [
    "Dans cet exemple, nous voyons comment ajuster de manière robuste un modèle linéaire à des données défectueuses en utilisant l'algorithme RANSAC.\n",
    "\n",
    "Le régresseur linéaire classique est sensible aux valeurs aberrantes, et la ligne ajustée peut facilement être déviée de la véritable relation sous-jacente des données.\n",
    "\n",
    "Le régresseur RANSAC divise automatiquement les données en inliers et en outliers, et la ligne ajustée est déterminée uniquement par les inliers identifiés."
   ]
  },
  {
   "cell_type": "code",
   "execution_count": null,
   "id": "f4672bd5-4d81-429a-9fd1-f36a42432cc3",
   "metadata": {},
   "outputs": [],
   "source": [
    "import numpy as np\n",
    "from matplotlib import pyplot as plt\n",
    "\n",
    "from sklearn import datasets, linear_model\n",
    "\n",
    "n_samples = 1000\n",
    "n_outliers = 50"
   ]
  },
  {
   "cell_type": "code",
   "execution_count": null,
   "id": "a622f074-f8cd-457e-8aa5-7571a592b95b",
   "metadata": {},
   "outputs": [],
   "source": [
    "X, y, coef = datasets.make_regression(\n",
    "    n_samples=n_samples,\n",
    "    n_features=1,\n",
    "    n_informative=1,\n",
    "    noise=10,\n",
    "    coef=True,\n",
    "    random_state=0,\n",
    ")"
   ]
  },
  {
   "cell_type": "code",
   "execution_count": null,
   "id": "d05b7bc4-e338-471e-b48f-10fad1b4199a",
   "metadata": {},
   "outputs": [],
   "source": [
    "# Add outlier data\n",
    "np.random.seed(0)\n",
    "X[:n_outliers] = 3 + 0.5 * np.random.normal(size=(n_outliers, 1))\n",
    "y[:n_outliers] = -3 + 10 * np.random.normal(size=n_outliers)"
   ]
  },
  {
   "cell_type": "code",
   "execution_count": null,
   "id": "f2b75f2e-5410-45fb-965c-632f8b01ed73",
   "metadata": {},
   "outputs": [],
   "source": [
    "# Fit linear_model line using all data\n",
    "lr = linear_model.LinearRegression()\n",
    "lr.fit(X, y)"
   ]
  },
  {
   "cell_type": "code",
   "execution_count": null,
   "id": "b68b35b6-2d14-4452-bbdb-71b19e7acfc8",
   "metadata": {},
   "outputs": [],
   "source": [
    "# Robustly fit linear model with RANSAC algorithm\n",
    "ransac = linear_model.RANSACRegressor()\n",
    "ransac.fit(X, y)\n",
    "inlier_mask = ransac.inlier_mask_\n",
    "outlier_mask = np.logical_not(inlier_mask)"
   ]
  },
  {
   "cell_type": "code",
   "execution_count": null,
   "id": "b10f025d-8072-493f-bd04-bd37fbd62077",
   "metadata": {},
   "outputs": [],
   "source": [
    "# Predict data of estimated models\n",
    "line_X = np.arange(X.min(), X.max())[:, np.newaxis]\n",
    "line_y = lr.predict(line_X)\n",
    "line_y_ransac = ransac.predict(line_X)"
   ]
  },
  {
   "cell_type": "code",
   "execution_count": null,
   "id": "a0ad1808-cf82-430c-8aee-203448fbedd8",
   "metadata": {},
   "outputs": [],
   "source": [
    "# Compare estimated coefficients\n",
    "print(\"Estimated coefficients (true, linear regression, RANSAC):\")\n",
    "print(coef, lr.coef_, ransac.estimator_.coef_)"
   ]
  },
  {
   "cell_type": "code",
   "execution_count": null,
   "id": "6c829568-3f0f-4d5d-9125-a4c0b6d9a79c",
   "metadata": {},
   "outputs": [],
   "source": [
    "lw = 2\n",
    "plt.scatter(\n",
    "    X[inlier_mask], y[inlier_mask], color=\"yellowgreen\", marker=\".\", label=\"Inliers\"\n",
    ")\n",
    "plt.scatter(\n",
    "    X[outlier_mask], y[outlier_mask], color=\"gold\", marker=\".\", label=\"Outliers\"\n",
    ")\n",
    "plt.plot(line_X, line_y, color=\"navy\", linewidth=lw, label=\"Linear regressor\")\n",
    "plt.plot(\n",
    "    line_X,\n",
    "    line_y_ransac,\n",
    "    color=\"cornflowerblue\",\n",
    "    linewidth=lw,\n",
    "    label=\"RANSAC regressor\",\n",
    ")\n",
    "plt.legend(loc=\"lower right\")\n",
    "plt.xlabel(\"Input\")\n",
    "plt.ylabel(\"Response\")\n",
    "plt.show()"
   ]
  },
  {
   "cell_type": "markdown",
   "id": "2fb1cf15-ef1d-4e57-90f0-fecbfd71e5dc",
   "metadata": {},
   "source": [
    "# 5°) Ressources"
   ]
  },
  {
   "cell_type": "markdown",
   "id": "2bb550cc-614a-476b-b3aa-e397ddc805a6",
   "metadata": {},
   "source": [
    "[1] [M.A. Fischler and R.C. Bolles. Random sample consensus: A paradigm for model\n",
    "fitting with applications to image analysis and automated cartography. Communications of the ACM, 24(6):381–395, 1981.](https://dl.acm.org/doi/epdf/10.1145/358669.358692)"
   ]
  },
  {
   "cell_type": "markdown",
   "id": "c089d0a2-952b-4c3d-ad19-71d7bbc8aa3e",
   "metadata": {},
   "source": [
    "[2] [sklearn](https://scikit-learn.org/stable/modules/generated/sklearn.linear_model.RANSACRegressor.html)"
   ]
  },
  {
   "cell_type": "code",
   "execution_count": null,
   "id": "c0a7d5d7-a17c-4adf-94c7-300496e2534a",
   "metadata": {},
   "outputs": [],
   "source": []
  }
 ],
 "metadata": {
  "kernelspec": {
   "display_name": "Python 3 (ipykernel)",
   "language": "python",
   "name": "python3"
  },
  "language_info": {
   "codemirror_mode": {
    "name": "ipython",
    "version": 3
   },
   "file_extension": ".py",
   "mimetype": "text/x-python",
   "name": "python",
   "nbconvert_exporter": "python",
   "pygments_lexer": "ipython3",
   "version": "3.11.5"
  }
 },
 "nbformat": 4,
 "nbformat_minor": 5
}
